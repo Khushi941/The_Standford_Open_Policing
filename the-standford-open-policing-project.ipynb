{
 "cells": [
  {
   "cell_type": "markdown",
   "id": "93223549",
   "metadata": {
    "papermill": {
     "duration": 0.013091,
     "end_time": "2023-12-01T09:40:27.512736",
     "exception": false,
     "start_time": "2023-12-01T09:40:27.499645",
     "status": "completed"
    },
    "tags": []
   },
   "source": [
    "# *About the Dataset *\n",
    "\n",
    "On a typical day in the United States, police officers make more than 50,000 traffic stops.\n",
    "Our team is gathering, analyzing, and releasing records from millions of traffic stops by law\n",
    "enforcement agencies across the country. Our goal is to help researchers, journalists, and\n",
    "policymakers investigate and improve interactions between police and the public.\n",
    "We will be using the dataset for the Rhode Island state of USA for the purposes of the EDA\n",
    "in the notebook."
   ]
  },
  {
   "cell_type": "code",
   "execution_count": 1,
   "id": "bb4d6ba5",
   "metadata": {
    "_cell_guid": "b1076dfc-b9ad-4769-8c92-a6c4dae69d19",
    "_uuid": "8f2839f25d086af736a60e9eeb907d3b93b6e0e5",
    "execution": {
     "iopub.execute_input": "2023-12-01T09:40:27.539739Z",
     "iopub.status.busy": "2023-12-01T09:40:27.539307Z",
     "iopub.status.idle": "2023-12-01T09:40:27.556331Z",
     "shell.execute_reply": "2023-12-01T09:40:27.555153Z"
    },
    "papermill": {
     "duration": 0.033553,
     "end_time": "2023-12-01T09:40:27.559130",
     "exception": false,
     "start_time": "2023-12-01T09:40:27.525577",
     "status": "completed"
    },
    "tags": []
   },
   "outputs": [
    {
     "name": "stdout",
     "output_type": "stream",
     "text": [
      "/kaggle/input/ri-clean/RI-clean.csv\n"
     ]
    }
   ],
   "source": [
    "import numpy as np \n",
    "import pandas as pd \n",
    "\n",
    "import os\n",
    "for dirname, _, filenames in os.walk('/kaggle/input'):\n",
    "    for filename in filenames:\n",
    "        print(os.path.join(dirname, filename))\n"
   ]
  },
  {
   "cell_type": "code",
   "execution_count": 2,
   "id": "1f6d17e5",
   "metadata": {
    "execution": {
     "iopub.execute_input": "2023-12-01T09:40:27.586508Z",
     "iopub.status.busy": "2023-12-01T09:40:27.586075Z",
     "iopub.status.idle": "2023-12-01T09:40:31.310807Z",
     "shell.execute_reply": "2023-12-01T09:40:31.309402Z"
    },
    "papermill": {
     "duration": 3.741453,
     "end_time": "2023-12-01T09:40:31.313319",
     "exception": false,
     "start_time": "2023-12-01T09:40:27.571866",
     "status": "completed"
    },
    "tags": []
   },
   "outputs": [
    {
     "name": "stderr",
     "output_type": "stream",
     "text": [
      "/tmp/ipykernel_20/3804475580.py:1: DtypeWarning: Columns (8,16) have mixed types. Specify dtype option on import or set low_memory=False.\n",
      "  df = pd.read_csv('/kaggle/input/ri-clean/RI-clean.csv')\n"
     ]
    },
    {
     "data": {
      "text/html": [
       "<div>\n",
       "<style scoped>\n",
       "    .dataframe tbody tr th:only-of-type {\n",
       "        vertical-align: middle;\n",
       "    }\n",
       "\n",
       "    .dataframe tbody tr th {\n",
       "        vertical-align: top;\n",
       "    }\n",
       "\n",
       "    .dataframe thead th {\n",
       "        text-align: right;\n",
       "    }\n",
       "</style>\n",
       "<table border=\"1\" class=\"dataframe\">\n",
       "  <thead>\n",
       "    <tr style=\"text-align: right;\">\n",
       "      <th></th>\n",
       "      <th>id</th>\n",
       "      <th>state</th>\n",
       "      <th>stop_date</th>\n",
       "      <th>stop_time</th>\n",
       "      <th>location_raw</th>\n",
       "      <th>county_name</th>\n",
       "      <th>county_fips</th>\n",
       "      <th>fine_grained_location</th>\n",
       "      <th>police_department</th>\n",
       "      <th>driver_gender</th>\n",
       "      <th>...</th>\n",
       "      <th>search_conducted</th>\n",
       "      <th>search_type_raw</th>\n",
       "      <th>search_type</th>\n",
       "      <th>contraband_found</th>\n",
       "      <th>stop_outcome</th>\n",
       "      <th>is_arrested</th>\n",
       "      <th>stop_duration</th>\n",
       "      <th>out_of_state</th>\n",
       "      <th>drugs_related_stop</th>\n",
       "      <th>district</th>\n",
       "    </tr>\n",
       "  </thead>\n",
       "  <tbody>\n",
       "    <tr>\n",
       "      <th>0</th>\n",
       "      <td>RI-2005-00001</td>\n",
       "      <td>RI</td>\n",
       "      <td>2005-01-02</td>\n",
       "      <td>01:55</td>\n",
       "      <td>Zone K1</td>\n",
       "      <td>NaN</td>\n",
       "      <td>NaN</td>\n",
       "      <td>NaN</td>\n",
       "      <td>600</td>\n",
       "      <td>M</td>\n",
       "      <td>...</td>\n",
       "      <td>False</td>\n",
       "      <td>NaN</td>\n",
       "      <td>NaN</td>\n",
       "      <td>False</td>\n",
       "      <td>Citation</td>\n",
       "      <td>False</td>\n",
       "      <td>0-15 Min</td>\n",
       "      <td>False</td>\n",
       "      <td>False</td>\n",
       "      <td>Zone K1</td>\n",
       "    </tr>\n",
       "    <tr>\n",
       "      <th>1</th>\n",
       "      <td>RI-2005-00002</td>\n",
       "      <td>RI</td>\n",
       "      <td>2005-01-02</td>\n",
       "      <td>20:30</td>\n",
       "      <td>Zone X4</td>\n",
       "      <td>NaN</td>\n",
       "      <td>NaN</td>\n",
       "      <td>NaN</td>\n",
       "      <td>500</td>\n",
       "      <td>M</td>\n",
       "      <td>...</td>\n",
       "      <td>False</td>\n",
       "      <td>NaN</td>\n",
       "      <td>NaN</td>\n",
       "      <td>False</td>\n",
       "      <td>Citation</td>\n",
       "      <td>False</td>\n",
       "      <td>16-30 Min</td>\n",
       "      <td>False</td>\n",
       "      <td>False</td>\n",
       "      <td>Zone X4</td>\n",
       "    </tr>\n",
       "    <tr>\n",
       "      <th>2</th>\n",
       "      <td>RI-2005-00003</td>\n",
       "      <td>RI</td>\n",
       "      <td>2005-01-04</td>\n",
       "      <td>11:30</td>\n",
       "      <td>Zone X1</td>\n",
       "      <td>NaN</td>\n",
       "      <td>NaN</td>\n",
       "      <td>NaN</td>\n",
       "      <td>0</td>\n",
       "      <td>NaN</td>\n",
       "      <td>...</td>\n",
       "      <td>False</td>\n",
       "      <td>NaN</td>\n",
       "      <td>NaN</td>\n",
       "      <td>False</td>\n",
       "      <td>NaN</td>\n",
       "      <td>NaN</td>\n",
       "      <td>NaN</td>\n",
       "      <td>NaN</td>\n",
       "      <td>False</td>\n",
       "      <td>Zone X1</td>\n",
       "    </tr>\n",
       "    <tr>\n",
       "      <th>3</th>\n",
       "      <td>RI-2005-00004</td>\n",
       "      <td>RI</td>\n",
       "      <td>2005-01-04</td>\n",
       "      <td>12:55</td>\n",
       "      <td>Zone X4</td>\n",
       "      <td>NaN</td>\n",
       "      <td>NaN</td>\n",
       "      <td>NaN</td>\n",
       "      <td>500</td>\n",
       "      <td>M</td>\n",
       "      <td>...</td>\n",
       "      <td>False</td>\n",
       "      <td>NaN</td>\n",
       "      <td>NaN</td>\n",
       "      <td>False</td>\n",
       "      <td>Citation</td>\n",
       "      <td>False</td>\n",
       "      <td>0-15 Min</td>\n",
       "      <td>False</td>\n",
       "      <td>False</td>\n",
       "      <td>Zone X4</td>\n",
       "    </tr>\n",
       "    <tr>\n",
       "      <th>4</th>\n",
       "      <td>RI-2005-00005</td>\n",
       "      <td>RI</td>\n",
       "      <td>2005-01-06</td>\n",
       "      <td>01:30</td>\n",
       "      <td>Zone X4</td>\n",
       "      <td>NaN</td>\n",
       "      <td>NaN</td>\n",
       "      <td>NaN</td>\n",
       "      <td>500</td>\n",
       "      <td>M</td>\n",
       "      <td>...</td>\n",
       "      <td>False</td>\n",
       "      <td>NaN</td>\n",
       "      <td>NaN</td>\n",
       "      <td>False</td>\n",
       "      <td>Citation</td>\n",
       "      <td>False</td>\n",
       "      <td>0-15 Min</td>\n",
       "      <td>False</td>\n",
       "      <td>False</td>\n",
       "      <td>Zone X4</td>\n",
       "    </tr>\n",
       "  </tbody>\n",
       "</table>\n",
       "<p>5 rows × 26 columns</p>\n",
       "</div>"
      ],
      "text/plain": [
       "              id state   stop_date stop_time location_raw  county_name  \\\n",
       "0  RI-2005-00001    RI  2005-01-02     01:55      Zone K1          NaN   \n",
       "1  RI-2005-00002    RI  2005-01-02     20:30      Zone X4          NaN   \n",
       "2  RI-2005-00003    RI  2005-01-04     11:30      Zone X1          NaN   \n",
       "3  RI-2005-00004    RI  2005-01-04     12:55      Zone X4          NaN   \n",
       "4  RI-2005-00005    RI  2005-01-06     01:30      Zone X4          NaN   \n",
       "\n",
       "   county_fips  fine_grained_location police_department driver_gender  ...  \\\n",
       "0          NaN                    NaN               600             M  ...   \n",
       "1          NaN                    NaN               500             M  ...   \n",
       "2          NaN                    NaN                 0           NaN  ...   \n",
       "3          NaN                    NaN               500             M  ...   \n",
       "4          NaN                    NaN               500             M  ...   \n",
       "\n",
       "   search_conducted  search_type_raw search_type contraband_found  \\\n",
       "0             False              NaN         NaN            False   \n",
       "1             False              NaN         NaN            False   \n",
       "2             False              NaN         NaN            False   \n",
       "3             False              NaN         NaN            False   \n",
       "4             False              NaN         NaN            False   \n",
       "\n",
       "  stop_outcome is_arrested stop_duration out_of_state drugs_related_stop  \\\n",
       "0     Citation       False      0-15 Min        False              False   \n",
       "1     Citation       False     16-30 Min        False              False   \n",
       "2          NaN         NaN           NaN          NaN              False   \n",
       "3     Citation       False      0-15 Min        False              False   \n",
       "4     Citation       False      0-15 Min        False              False   \n",
       "\n",
       "   district  \n",
       "0   Zone K1  \n",
       "1   Zone X4  \n",
       "2   Zone X1  \n",
       "3   Zone X4  \n",
       "4   Zone X4  \n",
       "\n",
       "[5 rows x 26 columns]"
      ]
     },
     "execution_count": 2,
     "metadata": {},
     "output_type": "execute_result"
    }
   ],
   "source": [
    "df = pd.read_csv('/kaggle/input/ri-clean/RI-clean.csv')\n",
    "df.head()"
   ]
  },
  {
   "cell_type": "code",
   "execution_count": 3,
   "id": "0f183f98",
   "metadata": {
    "execution": {
     "iopub.execute_input": "2023-12-01T09:40:31.343445Z",
     "iopub.status.busy": "2023-12-01T09:40:31.342981Z",
     "iopub.status.idle": "2023-12-01T09:40:34.405437Z",
     "shell.execute_reply": "2023-12-01T09:40:34.404280Z"
    },
    "papermill": {
     "duration": 3.082267,
     "end_time": "2023-12-01T09:40:34.408771",
     "exception": false,
     "start_time": "2023-12-01T09:40:31.326504",
     "status": "completed"
    },
    "tags": []
   },
   "outputs": [
    {
     "name": "stdout",
     "output_type": "stream",
     "text": [
      "<class 'pandas.core.frame.DataFrame'>\n",
      "RangeIndex: 509681 entries, 0 to 509680\n",
      "Data columns (total 26 columns):\n",
      " #   Column                 Non-Null Count   Dtype  \n",
      "---  ------                 --------------   -----  \n",
      " 0   id                     509681 non-null  object \n",
      " 1   state                  509681 non-null  object \n",
      " 2   stop_date              509671 non-null  object \n",
      " 3   stop_time              509671 non-null  object \n",
      " 4   location_raw           509681 non-null  object \n",
      " 5   county_name            0 non-null       float64\n",
      " 6   county_fips            0 non-null       float64\n",
      " 7   fine_grained_location  0 non-null       float64\n",
      " 8   police_department      509671 non-null  object \n",
      " 9   driver_gender          480584 non-null  object \n",
      " 10  driver_age_raw         480632 non-null  float64\n",
      " 11  driver_age             478986 non-null  float64\n",
      " 12  driver_race_raw        480608 non-null  object \n",
      " 13  driver_race            480608 non-null  object \n",
      " 14  violation_raw          480608 non-null  object \n",
      " 15  violation              480608 non-null  object \n",
      " 16  search_conducted       509671 non-null  object \n",
      " 17  search_type_raw        17762 non-null   object \n",
      " 18  search_type            17762 non-null   object \n",
      " 19  contraband_found       509681 non-null  bool   \n",
      " 20  stop_outcome           480608 non-null  object \n",
      " 21  is_arrested            480608 non-null  object \n",
      " 22  stop_duration          480608 non-null  object \n",
      " 23  out_of_state           479800 non-null  object \n",
      " 24  drugs_related_stop     509681 non-null  bool   \n",
      " 25  district               509681 non-null  object \n",
      "dtypes: bool(2), float64(5), object(19)\n",
      "memory usage: 94.3+ MB\n"
     ]
    }
   ],
   "source": [
    "#Display overview information for the dataframe\n",
    "df.info()"
   ]
  },
  {
   "cell_type": "code",
   "execution_count": 4,
   "id": "310df957",
   "metadata": {
    "execution": {
     "iopub.execute_input": "2023-12-01T09:40:34.436749Z",
     "iopub.status.busy": "2023-12-01T09:40:34.436336Z",
     "iopub.status.idle": "2023-12-01T09:40:34.443548Z",
     "shell.execute_reply": "2023-12-01T09:40:34.442512Z"
    },
    "papermill": {
     "duration": 0.024125,
     "end_time": "2023-12-01T09:40:34.445960",
     "exception": false,
     "start_time": "2023-12-01T09:40:34.421835",
     "status": "completed"
    },
    "tags": []
   },
   "outputs": [
    {
     "data": {
      "text/plain": [
       "(509681, 26)"
      ]
     },
     "execution_count": 4,
     "metadata": {},
     "output_type": "execute_result"
    }
   ],
   "source": [
    "# print the shape of the DF as an easy alternative to looking up this in info.\n",
    "df.shape"
   ]
  },
  {
   "cell_type": "markdown",
   "id": "fc0dc77b",
   "metadata": {
    "papermill": {
     "duration": 0.013007,
     "end_time": "2023-12-01T09:40:34.472370",
     "exception": false,
     "start_time": "2023-12-01T09:40:34.459363",
     "status": "completed"
    },
    "tags": []
   },
   "source": [
    "# **EDA Process Starts\n",
    "## Missing Values**"
   ]
  },
  {
   "cell_type": "code",
   "execution_count": 5,
   "id": "278f6862",
   "metadata": {
    "execution": {
     "iopub.execute_input": "2023-12-01T09:40:34.500627Z",
     "iopub.status.busy": "2023-12-01T09:40:34.500257Z",
     "iopub.status.idle": "2023-12-01T09:40:37.474204Z",
     "shell.execute_reply": "2023-12-01T09:40:37.473128Z"
    },
    "papermill": {
     "duration": 2.991025,
     "end_time": "2023-12-01T09:40:37.476719",
     "exception": false,
     "start_time": "2023-12-01T09:40:34.485694",
     "status": "completed"
    },
    "tags": []
   },
   "outputs": [
    {
     "data": {
      "text/html": [
       "<div>\n",
       "<style scoped>\n",
       "    .dataframe tbody tr th:only-of-type {\n",
       "        vertical-align: middle;\n",
       "    }\n",
       "\n",
       "    .dataframe tbody tr th {\n",
       "        vertical-align: top;\n",
       "    }\n",
       "\n",
       "    .dataframe thead th {\n",
       "        text-align: right;\n",
       "    }\n",
       "</style>\n",
       "<table border=\"1\" class=\"dataframe\">\n",
       "  <thead>\n",
       "    <tr style=\"text-align: right;\">\n",
       "      <th></th>\n",
       "      <th>id</th>\n",
       "      <th>state</th>\n",
       "      <th>stop_date</th>\n",
       "      <th>stop_time</th>\n",
       "      <th>location_raw</th>\n",
       "      <th>county_name</th>\n",
       "      <th>county_fips</th>\n",
       "      <th>fine_grained_location</th>\n",
       "      <th>police_department</th>\n",
       "      <th>driver_gender</th>\n",
       "      <th>...</th>\n",
       "      <th>search_conducted</th>\n",
       "      <th>search_type_raw</th>\n",
       "      <th>search_type</th>\n",
       "      <th>contraband_found</th>\n",
       "      <th>stop_outcome</th>\n",
       "      <th>is_arrested</th>\n",
       "      <th>stop_duration</th>\n",
       "      <th>out_of_state</th>\n",
       "      <th>drugs_related_stop</th>\n",
       "      <th>district</th>\n",
       "    </tr>\n",
       "  </thead>\n",
       "  <tbody>\n",
       "    <tr>\n",
       "      <th>0</th>\n",
       "      <td>False</td>\n",
       "      <td>False</td>\n",
       "      <td>False</td>\n",
       "      <td>False</td>\n",
       "      <td>False</td>\n",
       "      <td>True</td>\n",
       "      <td>True</td>\n",
       "      <td>True</td>\n",
       "      <td>False</td>\n",
       "      <td>False</td>\n",
       "      <td>...</td>\n",
       "      <td>False</td>\n",
       "      <td>True</td>\n",
       "      <td>True</td>\n",
       "      <td>False</td>\n",
       "      <td>False</td>\n",
       "      <td>False</td>\n",
       "      <td>False</td>\n",
       "      <td>False</td>\n",
       "      <td>False</td>\n",
       "      <td>False</td>\n",
       "    </tr>\n",
       "    <tr>\n",
       "      <th>1</th>\n",
       "      <td>False</td>\n",
       "      <td>False</td>\n",
       "      <td>False</td>\n",
       "      <td>False</td>\n",
       "      <td>False</td>\n",
       "      <td>True</td>\n",
       "      <td>True</td>\n",
       "      <td>True</td>\n",
       "      <td>False</td>\n",
       "      <td>False</td>\n",
       "      <td>...</td>\n",
       "      <td>False</td>\n",
       "      <td>True</td>\n",
       "      <td>True</td>\n",
       "      <td>False</td>\n",
       "      <td>False</td>\n",
       "      <td>False</td>\n",
       "      <td>False</td>\n",
       "      <td>False</td>\n",
       "      <td>False</td>\n",
       "      <td>False</td>\n",
       "    </tr>\n",
       "    <tr>\n",
       "      <th>2</th>\n",
       "      <td>False</td>\n",
       "      <td>False</td>\n",
       "      <td>False</td>\n",
       "      <td>False</td>\n",
       "      <td>False</td>\n",
       "      <td>True</td>\n",
       "      <td>True</td>\n",
       "      <td>True</td>\n",
       "      <td>False</td>\n",
       "      <td>True</td>\n",
       "      <td>...</td>\n",
       "      <td>False</td>\n",
       "      <td>True</td>\n",
       "      <td>True</td>\n",
       "      <td>False</td>\n",
       "      <td>True</td>\n",
       "      <td>True</td>\n",
       "      <td>True</td>\n",
       "      <td>True</td>\n",
       "      <td>False</td>\n",
       "      <td>False</td>\n",
       "    </tr>\n",
       "    <tr>\n",
       "      <th>3</th>\n",
       "      <td>False</td>\n",
       "      <td>False</td>\n",
       "      <td>False</td>\n",
       "      <td>False</td>\n",
       "      <td>False</td>\n",
       "      <td>True</td>\n",
       "      <td>True</td>\n",
       "      <td>True</td>\n",
       "      <td>False</td>\n",
       "      <td>False</td>\n",
       "      <td>...</td>\n",
       "      <td>False</td>\n",
       "      <td>True</td>\n",
       "      <td>True</td>\n",
       "      <td>False</td>\n",
       "      <td>False</td>\n",
       "      <td>False</td>\n",
       "      <td>False</td>\n",
       "      <td>False</td>\n",
       "      <td>False</td>\n",
       "      <td>False</td>\n",
       "    </tr>\n",
       "    <tr>\n",
       "      <th>4</th>\n",
       "      <td>False</td>\n",
       "      <td>False</td>\n",
       "      <td>False</td>\n",
       "      <td>False</td>\n",
       "      <td>False</td>\n",
       "      <td>True</td>\n",
       "      <td>True</td>\n",
       "      <td>True</td>\n",
       "      <td>False</td>\n",
       "      <td>False</td>\n",
       "      <td>...</td>\n",
       "      <td>False</td>\n",
       "      <td>True</td>\n",
       "      <td>True</td>\n",
       "      <td>False</td>\n",
       "      <td>False</td>\n",
       "      <td>False</td>\n",
       "      <td>False</td>\n",
       "      <td>False</td>\n",
       "      <td>False</td>\n",
       "      <td>False</td>\n",
       "    </tr>\n",
       "    <tr>\n",
       "      <th>5</th>\n",
       "      <td>False</td>\n",
       "      <td>False</td>\n",
       "      <td>False</td>\n",
       "      <td>False</td>\n",
       "      <td>False</td>\n",
       "      <td>True</td>\n",
       "      <td>True</td>\n",
       "      <td>True</td>\n",
       "      <td>False</td>\n",
       "      <td>False</td>\n",
       "      <td>...</td>\n",
       "      <td>False</td>\n",
       "      <td>True</td>\n",
       "      <td>True</td>\n",
       "      <td>False</td>\n",
       "      <td>False</td>\n",
       "      <td>False</td>\n",
       "      <td>False</td>\n",
       "      <td>False</td>\n",
       "      <td>False</td>\n",
       "      <td>False</td>\n",
       "    </tr>\n",
       "    <tr>\n",
       "      <th>6</th>\n",
       "      <td>False</td>\n",
       "      <td>False</td>\n",
       "      <td>False</td>\n",
       "      <td>False</td>\n",
       "      <td>False</td>\n",
       "      <td>True</td>\n",
       "      <td>True</td>\n",
       "      <td>True</td>\n",
       "      <td>False</td>\n",
       "      <td>False</td>\n",
       "      <td>...</td>\n",
       "      <td>False</td>\n",
       "      <td>True</td>\n",
       "      <td>True</td>\n",
       "      <td>False</td>\n",
       "      <td>False</td>\n",
       "      <td>False</td>\n",
       "      <td>False</td>\n",
       "      <td>False</td>\n",
       "      <td>False</td>\n",
       "      <td>False</td>\n",
       "    </tr>\n",
       "    <tr>\n",
       "      <th>7</th>\n",
       "      <td>False</td>\n",
       "      <td>False</td>\n",
       "      <td>False</td>\n",
       "      <td>False</td>\n",
       "      <td>False</td>\n",
       "      <td>True</td>\n",
       "      <td>True</td>\n",
       "      <td>True</td>\n",
       "      <td>False</td>\n",
       "      <td>False</td>\n",
       "      <td>...</td>\n",
       "      <td>False</td>\n",
       "      <td>True</td>\n",
       "      <td>True</td>\n",
       "      <td>False</td>\n",
       "      <td>False</td>\n",
       "      <td>False</td>\n",
       "      <td>False</td>\n",
       "      <td>False</td>\n",
       "      <td>False</td>\n",
       "      <td>False</td>\n",
       "    </tr>\n",
       "    <tr>\n",
       "      <th>8</th>\n",
       "      <td>False</td>\n",
       "      <td>False</td>\n",
       "      <td>False</td>\n",
       "      <td>False</td>\n",
       "      <td>False</td>\n",
       "      <td>True</td>\n",
       "      <td>True</td>\n",
       "      <td>True</td>\n",
       "      <td>False</td>\n",
       "      <td>False</td>\n",
       "      <td>...</td>\n",
       "      <td>False</td>\n",
       "      <td>True</td>\n",
       "      <td>True</td>\n",
       "      <td>False</td>\n",
       "      <td>False</td>\n",
       "      <td>False</td>\n",
       "      <td>False</td>\n",
       "      <td>False</td>\n",
       "      <td>False</td>\n",
       "      <td>False</td>\n",
       "    </tr>\n",
       "    <tr>\n",
       "      <th>9</th>\n",
       "      <td>False</td>\n",
       "      <td>False</td>\n",
       "      <td>False</td>\n",
       "      <td>False</td>\n",
       "      <td>False</td>\n",
       "      <td>True</td>\n",
       "      <td>True</td>\n",
       "      <td>True</td>\n",
       "      <td>False</td>\n",
       "      <td>False</td>\n",
       "      <td>...</td>\n",
       "      <td>False</td>\n",
       "      <td>False</td>\n",
       "      <td>False</td>\n",
       "      <td>False</td>\n",
       "      <td>False</td>\n",
       "      <td>False</td>\n",
       "      <td>False</td>\n",
       "      <td>False</td>\n",
       "      <td>False</td>\n",
       "      <td>False</td>\n",
       "    </tr>\n",
       "  </tbody>\n",
       "</table>\n",
       "<p>10 rows × 26 columns</p>\n",
       "</div>"
      ],
      "text/plain": [
       "      id  state  stop_date  stop_time  location_raw  county_name  county_fips  \\\n",
       "0  False  False      False      False         False         True         True   \n",
       "1  False  False      False      False         False         True         True   \n",
       "2  False  False      False      False         False         True         True   \n",
       "3  False  False      False      False         False         True         True   \n",
       "4  False  False      False      False         False         True         True   \n",
       "5  False  False      False      False         False         True         True   \n",
       "6  False  False      False      False         False         True         True   \n",
       "7  False  False      False      False         False         True         True   \n",
       "8  False  False      False      False         False         True         True   \n",
       "9  False  False      False      False         False         True         True   \n",
       "\n",
       "   fine_grained_location  police_department  driver_gender  ...  \\\n",
       "0                   True              False          False  ...   \n",
       "1                   True              False          False  ...   \n",
       "2                   True              False           True  ...   \n",
       "3                   True              False          False  ...   \n",
       "4                   True              False          False  ...   \n",
       "5                   True              False          False  ...   \n",
       "6                   True              False          False  ...   \n",
       "7                   True              False          False  ...   \n",
       "8                   True              False          False  ...   \n",
       "9                   True              False          False  ...   \n",
       "\n",
       "   search_conducted  search_type_raw  search_type  contraband_found  \\\n",
       "0             False             True         True             False   \n",
       "1             False             True         True             False   \n",
       "2             False             True         True             False   \n",
       "3             False             True         True             False   \n",
       "4             False             True         True             False   \n",
       "5             False             True         True             False   \n",
       "6             False             True         True             False   \n",
       "7             False             True         True             False   \n",
       "8             False             True         True             False   \n",
       "9             False            False        False             False   \n",
       "\n",
       "   stop_outcome  is_arrested  stop_duration  out_of_state  drugs_related_stop  \\\n",
       "0         False        False          False         False               False   \n",
       "1         False        False          False         False               False   \n",
       "2          True         True           True          True               False   \n",
       "3         False        False          False         False               False   \n",
       "4         False        False          False         False               False   \n",
       "5         False        False          False         False               False   \n",
       "6         False        False          False         False               False   \n",
       "7         False        False          False         False               False   \n",
       "8         False        False          False         False               False   \n",
       "9         False        False          False         False               False   \n",
       "\n",
       "   district  \n",
       "0     False  \n",
       "1     False  \n",
       "2     False  \n",
       "3     False  \n",
       "4     False  \n",
       "5     False  \n",
       "6     False  \n",
       "7     False  \n",
       "8     False  \n",
       "9     False  \n",
       "\n",
       "[10 rows x 26 columns]"
      ]
     },
     "execution_count": 5,
     "metadata": {},
     "output_type": "execute_result"
    }
   ],
   "source": [
    "# The isnull command generates a dataframe with bool (True/False) outputs that you can apply commands on.\n",
    "# Show missing values (mask), cut to the first 10 rows. Note, that python index alsways starts with 0!\n",
    "df.isnull()[:10]"
   ]
  },
  {
   "cell_type": "code",
   "execution_count": 6,
   "id": "40850a0c",
   "metadata": {
    "execution": {
     "iopub.execute_input": "2023-12-01T09:40:37.506734Z",
     "iopub.status.busy": "2023-12-01T09:40:37.506323Z",
     "iopub.status.idle": "2023-12-01T09:40:40.550045Z",
     "shell.execute_reply": "2023-12-01T09:40:40.548875Z"
    },
    "papermill": {
     "duration": 3.061572,
     "end_time": "2023-12-01T09:40:40.552833",
     "exception": false,
     "start_time": "2023-12-01T09:40:37.491261",
     "status": "completed"
    },
    "tags": []
   },
   "outputs": [
    {
     "data": {
      "text/plain": [
       "id                            0\n",
       "state                         0\n",
       "stop_date                    10\n",
       "stop_time                    10\n",
       "location_raw                  0\n",
       "county_name              509681\n",
       "county_fips              509681\n",
       "fine_grained_location    509681\n",
       "police_department            10\n",
       "driver_gender             29097\n",
       "driver_age_raw            29049\n",
       "driver_age                30695\n",
       "driver_race_raw           29073\n",
       "driver_race               29073\n",
       "violation_raw             29073\n",
       "violation                 29073\n",
       "search_conducted             10\n",
       "search_type_raw          491919\n",
       "search_type              491919\n",
       "contraband_found              0\n",
       "stop_outcome              29073\n",
       "is_arrested               29073\n",
       "stop_duration             29073\n",
       "out_of_state              29881\n",
       "drugs_related_stop            0\n",
       "district                      0\n",
       "dtype: int64"
      ]
     },
     "execution_count": 6,
     "metadata": {},
     "output_type": "execute_result"
    }
   ],
   "source": [
    "df.isnull().sum()"
   ]
  },
  {
   "cell_type": "code",
   "execution_count": 7,
   "id": "1332328f",
   "metadata": {
    "execution": {
     "iopub.execute_input": "2023-12-01T09:40:40.585137Z",
     "iopub.status.busy": "2023-12-01T09:40:40.584602Z",
     "iopub.status.idle": "2023-12-01T09:40:40.592156Z",
     "shell.execute_reply": "2023-12-01T09:40:40.590829Z"
    },
    "papermill": {
     "duration": 0.027988,
     "end_time": "2023-12-01T09:40:40.595037",
     "exception": false,
     "start_time": "2023-12-01T09:40:40.567049",
     "status": "completed"
    },
    "tags": []
   },
   "outputs": [
    {
     "name": "stdout",
     "output_type": "stream",
     "text": [
      "Index(['id', 'state', 'stop_date', 'stop_time', 'location_raw', 'county_name',\n",
      "       'county_fips', 'fine_grained_location', 'police_department',\n",
      "       'driver_gender', 'driver_age_raw', 'driver_age', 'driver_race_raw',\n",
      "       'driver_race', 'violation_raw', 'violation', 'search_conducted',\n",
      "       'search_type_raw', 'search_type', 'contraband_found', 'stop_outcome',\n",
      "       'is_arrested', 'stop_duration', 'out_of_state', 'drugs_related_stop',\n",
      "       'district'],\n",
      "      dtype='object')\n"
     ]
    }
   ],
   "source": [
    "print(df.columns)\n"
   ]
  },
  {
   "cell_type": "code",
   "execution_count": 8,
   "id": "befc1984",
   "metadata": {
    "execution": {
     "iopub.execute_input": "2023-12-01T09:40:40.626781Z",
     "iopub.status.busy": "2023-12-01T09:40:40.625846Z",
     "iopub.status.idle": "2023-12-01T09:40:40.631539Z",
     "shell.execute_reply": "2023-12-01T09:40:40.630631Z"
    },
    "papermill": {
     "duration": 0.024326,
     "end_time": "2023-12-01T09:40:40.633832",
     "exception": false,
     "start_time": "2023-12-01T09:40:40.609506",
     "status": "completed"
    },
    "tags": []
   },
   "outputs": [],
   "source": [
    "df.columns = df.columns.str.strip()\n"
   ]
  },
  {
   "cell_type": "code",
   "execution_count": 9,
   "id": "45008540",
   "metadata": {
    "execution": {
     "iopub.execute_input": "2023-12-01T09:40:40.665465Z",
     "iopub.status.busy": "2023-12-01T09:40:40.664471Z",
     "iopub.status.idle": "2023-12-01T09:40:40.672507Z",
     "shell.execute_reply": "2023-12-01T09:40:40.671066Z"
    },
    "papermill": {
     "duration": 0.02761,
     "end_time": "2023-12-01T09:40:40.675587",
     "exception": false,
     "start_time": "2023-12-01T09:40:40.647977",
     "status": "completed"
    },
    "tags": []
   },
   "outputs": [],
   "source": [
    "df.reset_index(drop=True, inplace=True)\n"
   ]
  },
  {
   "cell_type": "code",
   "execution_count": 10,
   "id": "2ebb68d6",
   "metadata": {
    "execution": {
     "iopub.execute_input": "2023-12-01T09:40:40.715633Z",
     "iopub.status.busy": "2023-12-01T09:40:40.714715Z",
     "iopub.status.idle": "2023-12-01T09:40:40.844019Z",
     "shell.execute_reply": "2023-12-01T09:40:40.842631Z"
    },
    "papermill": {
     "duration": 0.155389,
     "end_time": "2023-12-01T09:40:40.847095",
     "exception": false,
     "start_time": "2023-12-01T09:40:40.691706",
     "status": "completed"
    },
    "tags": []
   },
   "outputs": [],
   "source": [
    "columns_to_drop = ['fine_grained_location']\n",
    "df.drop(columns=columns_to_drop, inplace=True)\n",
    "\n"
   ]
  },
  {
   "cell_type": "code",
   "execution_count": 11,
   "id": "711fbe29",
   "metadata": {
    "execution": {
     "iopub.execute_input": "2023-12-01T09:40:40.877935Z",
     "iopub.status.busy": "2023-12-01T09:40:40.877491Z",
     "iopub.status.idle": "2023-12-01T09:40:41.579214Z",
     "shell.execute_reply": "2023-12-01T09:40:41.577964Z"
    },
    "papermill": {
     "duration": 0.72031,
     "end_time": "2023-12-01T09:40:41.582158",
     "exception": false,
     "start_time": "2023-12-01T09:40:40.861848",
     "status": "completed"
    },
    "tags": []
   },
   "outputs": [],
   "source": [
    "# Drop all columns where stop_data, time, and driver_gender are missing\n",
    "df.dropna(subset=['stop_date', 'stop_time', 'driver_gender'], inplace=True)"
   ]
  },
  {
   "cell_type": "code",
   "execution_count": 12,
   "id": "3c958e6f",
   "metadata": {
    "execution": {
     "iopub.execute_input": "2023-12-01T09:40:41.612782Z",
     "iopub.status.busy": "2023-12-01T09:40:41.612352Z",
     "iopub.status.idle": "2023-12-01T09:40:44.499017Z",
     "shell.execute_reply": "2023-12-01T09:40:44.497855Z"
    },
    "papermill": {
     "duration": 2.905238,
     "end_time": "2023-12-01T09:40:44.501751",
     "exception": false,
     "start_time": "2023-12-01T09:40:41.596513",
     "status": "completed"
    },
    "tags": []
   },
   "outputs": [
    {
     "data": {
      "text/plain": [
       "id                      0.000000\n",
       "state                   0.000000\n",
       "stop_date               0.000000\n",
       "stop_time               0.000000\n",
       "location_raw            0.000000\n",
       "county_name           100.000000\n",
       "county_fips           100.000000\n",
       "police_department       0.000000\n",
       "driver_gender           0.000000\n",
       "driver_age_raw          0.000208\n",
       "driver_age              0.340835\n",
       "driver_race_raw         0.000000\n",
       "driver_race             0.000000\n",
       "violation_raw           0.000000\n",
       "violation               0.000000\n",
       "search_conducted        0.000000\n",
       "search_type_raw        96.304080\n",
       "search_type            96.304080\n",
       "contraband_found        0.000000\n",
       "stop_outcome            0.000000\n",
       "is_arrested             0.000000\n",
       "stop_duration           0.000000\n",
       "out_of_state            0.168129\n",
       "drugs_related_stop      0.000000\n",
       "district                0.000000\n",
       "dtype: float64"
      ]
     },
     "execution_count": 12,
     "metadata": {},
     "output_type": "execute_result"
    }
   ],
   "source": [
    "df.isnull().sum()*100/len(df)"
   ]
  },
  {
   "cell_type": "markdown",
   "id": "36b9898b",
   "metadata": {
    "papermill": {
     "duration": 0.014135,
     "end_time": "2023-12-01T09:40:44.530513",
     "exception": false,
     "start_time": "2023-12-01T09:40:44.516378",
     "status": "completed"
    },
    "tags": []
   },
   "source": [
    "**Adjusting Data Types**"
   ]
  },
  {
   "cell_type": "code",
   "execution_count": 13,
   "id": "3d5295b9",
   "metadata": {
    "execution": {
     "iopub.execute_input": "2023-12-01T09:40:44.561965Z",
     "iopub.status.busy": "2023-12-01T09:40:44.560781Z",
     "iopub.status.idle": "2023-12-01T09:40:44.570244Z",
     "shell.execute_reply": "2023-12-01T09:40:44.569042Z"
    },
    "papermill": {
     "duration": 0.027944,
     "end_time": "2023-12-01T09:40:44.572965",
     "exception": false,
     "start_time": "2023-12-01T09:40:44.545021",
     "status": "completed"
    },
    "tags": []
   },
   "outputs": [
    {
     "data": {
      "text/plain": [
       "0    False\n",
       "1    False\n",
       "3    False\n",
       "4    False\n",
       "5    False\n",
       "Name: is_arrested, dtype: object"
      ]
     },
     "execution_count": 13,
     "metadata": {},
     "output_type": "execute_result"
    }
   ],
   "source": [
    "# let's check this potential candidate column\n",
    "df.is_arrested.head()"
   ]
  },
  {
   "cell_type": "code",
   "execution_count": 14,
   "id": "66e982fd",
   "metadata": {
    "execution": {
     "iopub.execute_input": "2023-12-01T09:40:44.604563Z",
     "iopub.status.busy": "2023-12-01T09:40:44.604089Z",
     "iopub.status.idle": "2023-12-01T09:40:44.718456Z",
     "shell.execute_reply": "2023-12-01T09:40:44.717136Z"
    },
    "papermill": {
     "duration": 0.1336,
     "end_time": "2023-12-01T09:40:44.721494",
     "exception": false,
     "start_time": "2023-12-01T09:40:44.587894",
     "status": "completed"
    },
    "tags": []
   },
   "outputs": [],
   "source": [
    "# Assign the is_arrested column a new datatype\n",
    "df['is_arrested'] = df.is_arrested.astype('bool')"
   ]
  },
  {
   "cell_type": "code",
   "execution_count": 15,
   "id": "0423c25f",
   "metadata": {
    "execution": {
     "iopub.execute_input": "2023-12-01T09:40:44.752281Z",
     "iopub.status.busy": "2023-12-01T09:40:44.751861Z",
     "iopub.status.idle": "2023-12-01T09:40:44.772205Z",
     "shell.execute_reply": "2023-12-01T09:40:44.771351Z"
    },
    "papermill": {
     "duration": 0.038337,
     "end_time": "2023-12-01T09:40:44.774409",
     "exception": false,
     "start_time": "2023-12-01T09:40:44.736072",
     "status": "completed"
    },
    "tags": []
   },
   "outputs": [
    {
     "data": {
      "text/html": [
       "<div>\n",
       "<style scoped>\n",
       "    .dataframe tbody tr th:only-of-type {\n",
       "        vertical-align: middle;\n",
       "    }\n",
       "\n",
       "    .dataframe tbody tr th {\n",
       "        vertical-align: top;\n",
       "    }\n",
       "\n",
       "    .dataframe thead th {\n",
       "        text-align: right;\n",
       "    }\n",
       "</style>\n",
       "<table border=\"1\" class=\"dataframe\">\n",
       "  <thead>\n",
       "    <tr style=\"text-align: right;\">\n",
       "      <th></th>\n",
       "      <th>stop_date</th>\n",
       "      <th>stop_time</th>\n",
       "    </tr>\n",
       "  </thead>\n",
       "  <tbody>\n",
       "    <tr>\n",
       "      <th>0</th>\n",
       "      <td>2005-01-02</td>\n",
       "      <td>01:55</td>\n",
       "    </tr>\n",
       "    <tr>\n",
       "      <th>1</th>\n",
       "      <td>2005-01-02</td>\n",
       "      <td>20:30</td>\n",
       "    </tr>\n",
       "    <tr>\n",
       "      <th>3</th>\n",
       "      <td>2005-01-04</td>\n",
       "      <td>12:55</td>\n",
       "    </tr>\n",
       "    <tr>\n",
       "      <th>4</th>\n",
       "      <td>2005-01-06</td>\n",
       "      <td>01:30</td>\n",
       "    </tr>\n",
       "    <tr>\n",
       "      <th>5</th>\n",
       "      <td>2005-01-12</td>\n",
       "      <td>08:05</td>\n",
       "    </tr>\n",
       "  </tbody>\n",
       "</table>\n",
       "</div>"
      ],
      "text/plain": [
       "    stop_date stop_time\n",
       "0  2005-01-02     01:55\n",
       "1  2005-01-02     20:30\n",
       "3  2005-01-04     12:55\n",
       "4  2005-01-06     01:30\n",
       "5  2005-01-12     08:05"
      ]
     },
     "execution_count": 15,
     "metadata": {},
     "output_type": "execute_result"
    }
   ],
   "source": [
    "df[['stop_date','stop_time']].head()"
   ]
  },
  {
   "cell_type": "code",
   "execution_count": 16,
   "id": "2bf53bb3",
   "metadata": {
    "execution": {
     "iopub.execute_input": "2023-12-01T09:40:44.806581Z",
     "iopub.status.busy": "2023-12-01T09:40:44.805664Z",
     "iopub.status.idle": "2023-12-01T09:40:45.071735Z",
     "shell.execute_reply": "2023-12-01T09:40:45.070537Z"
    },
    "papermill": {
     "duration": 0.285005,
     "end_time": "2023-12-01T09:40:45.074224",
     "exception": false,
     "start_time": "2023-12-01T09:40:44.789219",
     "status": "completed"
    },
    "tags": []
   },
   "outputs": [
    {
     "name": "stdout",
     "output_type": "stream",
     "text": [
      "0    2005-01-02 01:55\n",
      "1    2005-01-02 20:30\n",
      "3    2005-01-04 12:55\n",
      "4    2005-01-06 01:30\n",
      "5    2005-01-12 08:05\n",
      "Name: stop_date, dtype: object\n"
     ]
    }
   ],
   "source": [
    "combined = df.stop_date.str.cat(df.stop_time, sep=' ')\n",
    "print(combined.head())"
   ]
  },
  {
   "cell_type": "code",
   "execution_count": 17,
   "id": "5a63c0bc",
   "metadata": {
    "execution": {
     "iopub.execute_input": "2023-12-01T09:40:45.105610Z",
     "iopub.status.busy": "2023-12-01T09:40:45.105155Z",
     "iopub.status.idle": "2023-12-01T09:40:45.291824Z",
     "shell.execute_reply": "2023-12-01T09:40:45.290808Z"
    },
    "papermill": {
     "duration": 0.205316,
     "end_time": "2023-12-01T09:40:45.294398",
     "exception": false,
     "start_time": "2023-12-01T09:40:45.089082",
     "status": "completed"
    },
    "tags": []
   },
   "outputs": [],
   "source": [
    "# Parse the combined series to datetime-format and assign it to a new column\n",
    "df['date_and_time'] = pd.to_datetime(combined)"
   ]
  },
  {
   "cell_type": "code",
   "execution_count": 18,
   "id": "ba234487",
   "metadata": {
    "execution": {
     "iopub.execute_input": "2023-12-01T09:40:45.327156Z",
     "iopub.status.busy": "2023-12-01T09:40:45.326761Z",
     "iopub.status.idle": "2023-12-01T09:40:45.332055Z",
     "shell.execute_reply": "2023-12-01T09:40:45.331151Z"
    },
    "papermill": {
     "duration": 0.025059,
     "end_time": "2023-12-01T09:40:45.334595",
     "exception": false,
     "start_time": "2023-12-01T09:40:45.309536",
     "status": "completed"
    },
    "tags": []
   },
   "outputs": [],
   "source": [
    "# Replace the standard index by the new column (which will in turn disappear)\n",
    "df.set_index('date_and_time', inplace=True)"
   ]
  },
  {
   "cell_type": "code",
   "execution_count": 19,
   "id": "fe1df1a3",
   "metadata": {
    "execution": {
     "iopub.execute_input": "2023-12-01T09:40:45.366923Z",
     "iopub.status.busy": "2023-12-01T09:40:45.366481Z",
     "iopub.status.idle": "2023-12-01T09:40:45.395183Z",
     "shell.execute_reply": "2023-12-01T09:40:45.394263Z"
    },
    "papermill": {
     "duration": 0.04789,
     "end_time": "2023-12-01T09:40:45.397604",
     "exception": false,
     "start_time": "2023-12-01T09:40:45.349714",
     "status": "completed"
    },
    "tags": []
   },
   "outputs": [
    {
     "data": {
      "text/html": [
       "<div>\n",
       "<style scoped>\n",
       "    .dataframe tbody tr th:only-of-type {\n",
       "        vertical-align: middle;\n",
       "    }\n",
       "\n",
       "    .dataframe tbody tr th {\n",
       "        vertical-align: top;\n",
       "    }\n",
       "\n",
       "    .dataframe thead th {\n",
       "        text-align: right;\n",
       "    }\n",
       "</style>\n",
       "<table border=\"1\" class=\"dataframe\">\n",
       "  <thead>\n",
       "    <tr style=\"text-align: right;\">\n",
       "      <th></th>\n",
       "      <th>id</th>\n",
       "      <th>state</th>\n",
       "      <th>stop_date</th>\n",
       "      <th>stop_time</th>\n",
       "      <th>location_raw</th>\n",
       "      <th>county_name</th>\n",
       "      <th>county_fips</th>\n",
       "      <th>police_department</th>\n",
       "      <th>driver_gender</th>\n",
       "      <th>driver_age_raw</th>\n",
       "      <th>...</th>\n",
       "      <th>search_conducted</th>\n",
       "      <th>search_type_raw</th>\n",
       "      <th>search_type</th>\n",
       "      <th>contraband_found</th>\n",
       "      <th>stop_outcome</th>\n",
       "      <th>is_arrested</th>\n",
       "      <th>stop_duration</th>\n",
       "      <th>out_of_state</th>\n",
       "      <th>drugs_related_stop</th>\n",
       "      <th>district</th>\n",
       "    </tr>\n",
       "    <tr>\n",
       "      <th>date_and_time</th>\n",
       "      <th></th>\n",
       "      <th></th>\n",
       "      <th></th>\n",
       "      <th></th>\n",
       "      <th></th>\n",
       "      <th></th>\n",
       "      <th></th>\n",
       "      <th></th>\n",
       "      <th></th>\n",
       "      <th></th>\n",
       "      <th></th>\n",
       "      <th></th>\n",
       "      <th></th>\n",
       "      <th></th>\n",
       "      <th></th>\n",
       "      <th></th>\n",
       "      <th></th>\n",
       "      <th></th>\n",
       "      <th></th>\n",
       "      <th></th>\n",
       "      <th></th>\n",
       "    </tr>\n",
       "  </thead>\n",
       "  <tbody>\n",
       "    <tr>\n",
       "      <th>2005-01-02 01:55:00</th>\n",
       "      <td>RI-2005-00001</td>\n",
       "      <td>RI</td>\n",
       "      <td>2005-01-02</td>\n",
       "      <td>01:55</td>\n",
       "      <td>Zone K1</td>\n",
       "      <td>NaN</td>\n",
       "      <td>NaN</td>\n",
       "      <td>600</td>\n",
       "      <td>M</td>\n",
       "      <td>1985.0</td>\n",
       "      <td>...</td>\n",
       "      <td>False</td>\n",
       "      <td>NaN</td>\n",
       "      <td>NaN</td>\n",
       "      <td>False</td>\n",
       "      <td>Citation</td>\n",
       "      <td>False</td>\n",
       "      <td>0-15 Min</td>\n",
       "      <td>False</td>\n",
       "      <td>False</td>\n",
       "      <td>Zone K1</td>\n",
       "    </tr>\n",
       "    <tr>\n",
       "      <th>2005-01-02 20:30:00</th>\n",
       "      <td>RI-2005-00002</td>\n",
       "      <td>RI</td>\n",
       "      <td>2005-01-02</td>\n",
       "      <td>20:30</td>\n",
       "      <td>Zone X4</td>\n",
       "      <td>NaN</td>\n",
       "      <td>NaN</td>\n",
       "      <td>500</td>\n",
       "      <td>M</td>\n",
       "      <td>1987.0</td>\n",
       "      <td>...</td>\n",
       "      <td>False</td>\n",
       "      <td>NaN</td>\n",
       "      <td>NaN</td>\n",
       "      <td>False</td>\n",
       "      <td>Citation</td>\n",
       "      <td>False</td>\n",
       "      <td>16-30 Min</td>\n",
       "      <td>False</td>\n",
       "      <td>False</td>\n",
       "      <td>Zone X4</td>\n",
       "    </tr>\n",
       "    <tr>\n",
       "      <th>2005-01-04 12:55:00</th>\n",
       "      <td>RI-2005-00004</td>\n",
       "      <td>RI</td>\n",
       "      <td>2005-01-04</td>\n",
       "      <td>12:55</td>\n",
       "      <td>Zone X4</td>\n",
       "      <td>NaN</td>\n",
       "      <td>NaN</td>\n",
       "      <td>500</td>\n",
       "      <td>M</td>\n",
       "      <td>1986.0</td>\n",
       "      <td>...</td>\n",
       "      <td>False</td>\n",
       "      <td>NaN</td>\n",
       "      <td>NaN</td>\n",
       "      <td>False</td>\n",
       "      <td>Citation</td>\n",
       "      <td>False</td>\n",
       "      <td>0-15 Min</td>\n",
       "      <td>False</td>\n",
       "      <td>False</td>\n",
       "      <td>Zone X4</td>\n",
       "    </tr>\n",
       "    <tr>\n",
       "      <th>2005-01-06 01:30:00</th>\n",
       "      <td>RI-2005-00005</td>\n",
       "      <td>RI</td>\n",
       "      <td>2005-01-06</td>\n",
       "      <td>01:30</td>\n",
       "      <td>Zone X4</td>\n",
       "      <td>NaN</td>\n",
       "      <td>NaN</td>\n",
       "      <td>500</td>\n",
       "      <td>M</td>\n",
       "      <td>1978.0</td>\n",
       "      <td>...</td>\n",
       "      <td>False</td>\n",
       "      <td>NaN</td>\n",
       "      <td>NaN</td>\n",
       "      <td>False</td>\n",
       "      <td>Citation</td>\n",
       "      <td>False</td>\n",
       "      <td>0-15 Min</td>\n",
       "      <td>False</td>\n",
       "      <td>False</td>\n",
       "      <td>Zone X4</td>\n",
       "    </tr>\n",
       "    <tr>\n",
       "      <th>2005-01-12 08:05:00</th>\n",
       "      <td>RI-2005-00006</td>\n",
       "      <td>RI</td>\n",
       "      <td>2005-01-12</td>\n",
       "      <td>08:05</td>\n",
       "      <td>Zone X1</td>\n",
       "      <td>NaN</td>\n",
       "      <td>NaN</td>\n",
       "      <td>0</td>\n",
       "      <td>M</td>\n",
       "      <td>1973.0</td>\n",
       "      <td>...</td>\n",
       "      <td>False</td>\n",
       "      <td>NaN</td>\n",
       "      <td>NaN</td>\n",
       "      <td>False</td>\n",
       "      <td>Citation</td>\n",
       "      <td>False</td>\n",
       "      <td>30+ Min</td>\n",
       "      <td>True</td>\n",
       "      <td>False</td>\n",
       "      <td>Zone X1</td>\n",
       "    </tr>\n",
       "  </tbody>\n",
       "</table>\n",
       "<p>5 rows × 25 columns</p>\n",
       "</div>"
      ],
      "text/plain": [
       "                                id state   stop_date stop_time location_raw  \\\n",
       "date_and_time                                                                 \n",
       "2005-01-02 01:55:00  RI-2005-00001    RI  2005-01-02     01:55      Zone K1   \n",
       "2005-01-02 20:30:00  RI-2005-00002    RI  2005-01-02     20:30      Zone X4   \n",
       "2005-01-04 12:55:00  RI-2005-00004    RI  2005-01-04     12:55      Zone X4   \n",
       "2005-01-06 01:30:00  RI-2005-00005    RI  2005-01-06     01:30      Zone X4   \n",
       "2005-01-12 08:05:00  RI-2005-00006    RI  2005-01-12     08:05      Zone X1   \n",
       "\n",
       "                     county_name  county_fips police_department driver_gender  \\\n",
       "date_and_time                                                                   \n",
       "2005-01-02 01:55:00          NaN          NaN               600             M   \n",
       "2005-01-02 20:30:00          NaN          NaN               500             M   \n",
       "2005-01-04 12:55:00          NaN          NaN               500             M   \n",
       "2005-01-06 01:30:00          NaN          NaN               500             M   \n",
       "2005-01-12 08:05:00          NaN          NaN                 0             M   \n",
       "\n",
       "                     driver_age_raw  ...  search_conducted search_type_raw  \\\n",
       "date_and_time                        ...                                     \n",
       "2005-01-02 01:55:00          1985.0  ...             False             NaN   \n",
       "2005-01-02 20:30:00          1987.0  ...             False             NaN   \n",
       "2005-01-04 12:55:00          1986.0  ...             False             NaN   \n",
       "2005-01-06 01:30:00          1978.0  ...             False             NaN   \n",
       "2005-01-12 08:05:00          1973.0  ...             False             NaN   \n",
       "\n",
       "                    search_type contraband_found stop_outcome is_arrested  \\\n",
       "date_and_time                                                               \n",
       "2005-01-02 01:55:00         NaN            False     Citation       False   \n",
       "2005-01-02 20:30:00         NaN            False     Citation       False   \n",
       "2005-01-04 12:55:00         NaN            False     Citation       False   \n",
       "2005-01-06 01:30:00         NaN            False     Citation       False   \n",
       "2005-01-12 08:05:00         NaN            False     Citation       False   \n",
       "\n",
       "                    stop_duration out_of_state  drugs_related_stop district  \n",
       "date_and_time                                                                \n",
       "2005-01-02 01:55:00      0-15 Min        False               False  Zone K1  \n",
       "2005-01-02 20:30:00     16-30 Min        False               False  Zone X4  \n",
       "2005-01-04 12:55:00      0-15 Min        False               False  Zone X4  \n",
       "2005-01-06 01:30:00      0-15 Min        False               False  Zone X4  \n",
       "2005-01-12 08:05:00       30+ Min         True               False  Zone X1  \n",
       "\n",
       "[5 rows x 25 columns]"
      ]
     },
     "execution_count": 19,
     "metadata": {},
     "output_type": "execute_result"
    }
   ],
   "source": [
    "df.head()"
   ]
  },
  {
   "cell_type": "markdown",
   "id": "1b735c2d",
   "metadata": {
    "papermill": {
     "duration": 0.014954,
     "end_time": "2023-12-01T09:40:45.428414",
     "exception": false,
     "start_time": "2023-12-01T09:40:45.413460",
     "status": "completed"
    },
    "tags": []
   },
   "source": [
    "# **Exploring the data step by step**\n",
    "\n",
    "We will start with simple counts, proportions, averages etc. and move from there to more advanced concepts"
   ]
  },
  {
   "cell_type": "code",
   "execution_count": 20,
   "id": "bf44ebeb",
   "metadata": {
    "execution": {
     "iopub.execute_input": "2023-12-01T09:40:45.461691Z",
     "iopub.status.busy": "2023-12-01T09:40:45.460640Z",
     "iopub.status.idle": "2023-12-01T09:40:45.508818Z",
     "shell.execute_reply": "2023-12-01T09:40:45.507917Z"
    },
    "papermill": {
     "duration": 0.067151,
     "end_time": "2023-12-01T09:40:45.511213",
     "exception": false,
     "start_time": "2023-12-01T09:40:45.444062",
     "status": "completed"
    },
    "tags": []
   },
   "outputs": [
    {
     "data": {
      "text/plain": [
       "array(['Citation', 'Arrest Driver', 'N/D', 'Warning', 'Arrest Passenger',\n",
       "       'No Action'], dtype=object)"
      ]
     },
     "execution_count": 20,
     "metadata": {},
     "output_type": "execute_result"
    }
   ],
   "source": [
    "# We can explore unique values for a column (even if it's a string)\n",
    "df.stop_outcome.unique()"
   ]
  },
  {
   "cell_type": "code",
   "execution_count": 21,
   "id": "bead4c3a",
   "metadata": {
    "execution": {
     "iopub.execute_input": "2023-12-01T09:40:45.545511Z",
     "iopub.status.busy": "2023-12-01T09:40:45.544640Z",
     "iopub.status.idle": "2023-12-01T09:40:45.636178Z",
     "shell.execute_reply": "2023-12-01T09:40:45.635054Z"
    },
    "papermill": {
     "duration": 0.111509,
     "end_time": "2023-12-01T09:40:45.638761",
     "exception": false,
     "start_time": "2023-12-01T09:40:45.527252",
     "status": "completed"
    },
    "tags": []
   },
   "outputs": [
    {
     "data": {
      "text/plain": [
       "Citation            428378\n",
       "Warning              28840\n",
       "Arrest Driver        14630\n",
       "N/D                   3431\n",
       "No Action             3332\n",
       "Arrest Passenger      1973\n",
       "Name: stop_outcome, dtype: int64"
      ]
     },
     "execution_count": 21,
     "metadata": {},
     "output_type": "execute_result"
    }
   ],
   "source": [
    "# count the distinct values\n",
    "df.stop_outcome.value_counts()"
   ]
  },
  {
   "cell_type": "code",
   "execution_count": 22,
   "id": "eef36258",
   "metadata": {
    "execution": {
     "iopub.execute_input": "2023-12-01T09:40:45.671832Z",
     "iopub.status.busy": "2023-12-01T09:40:45.671390Z",
     "iopub.status.idle": "2023-12-01T09:40:45.763790Z",
     "shell.execute_reply": "2023-12-01T09:40:45.762926Z"
    },
    "papermill": {
     "duration": 0.111321,
     "end_time": "2023-12-01T09:40:45.765928",
     "exception": false,
     "start_time": "2023-12-01T09:40:45.654607",
     "status": "completed"
    },
    "tags": []
   },
   "outputs": [
    {
     "data": {
      "text/plain": [
       "Citation            89.136967\n",
       "Warning              6.001032\n",
       "Arrest Driver        3.044213\n",
       "N/D                  0.713923\n",
       "No Action            0.693323\n",
       "Arrest Passenger     0.410542\n",
       "Name: stop_outcome, dtype: float64"
      ]
     },
     "execution_count": 22,
     "metadata": {},
     "output_type": "execute_result"
    }
   ],
   "source": [
    "df.stop_outcome.value_counts()*100.00/len(df['stop_outcome'])"
   ]
  },
  {
   "cell_type": "code",
   "execution_count": 23,
   "id": "825dff74",
   "metadata": {
    "execution": {
     "iopub.execute_input": "2023-12-01T09:40:45.800046Z",
     "iopub.status.busy": "2023-12-01T09:40:45.799255Z",
     "iopub.status.idle": "2023-12-01T09:40:45.891845Z",
     "shell.execute_reply": "2023-12-01T09:40:45.890599Z"
    },
    "papermill": {
     "duration": 0.112531,
     "end_time": "2023-12-01T09:40:45.894283",
     "exception": false,
     "start_time": "2023-12-01T09:40:45.781752",
     "status": "completed"
    },
    "tags": []
   },
   "outputs": [
    {
     "data": {
      "text/plain": [
       "Citation            0.891370\n",
       "Warning             0.060010\n",
       "Arrest Driver       0.030442\n",
       "N/D                 0.007139\n",
       "No Action           0.006933\n",
       "Arrest Passenger    0.004105\n",
       "Name: stop_outcome, dtype: float64"
      ]
     },
     "execution_count": 23,
     "metadata": {},
     "output_type": "execute_result"
    }
   ],
   "source": [
    "# Value counts provides a nice proportions option\n",
    "df.stop_outcome.value_counts(normalize=True)"
   ]
  },
  {
   "cell_type": "code",
   "execution_count": 24,
   "id": "6b258184",
   "metadata": {
    "execution": {
     "iopub.execute_input": "2023-12-01T09:40:45.928937Z",
     "iopub.status.busy": "2023-12-01T09:40:45.928152Z",
     "iopub.status.idle": "2023-12-01T09:40:46.103426Z",
     "shell.execute_reply": "2023-12-01T09:40:46.102329Z"
    },
    "papermill": {
     "duration": 0.195936,
     "end_time": "2023-12-01T09:40:46.106581",
     "exception": false,
     "start_time": "2023-12-01T09:40:45.910645",
     "status": "completed"
    },
    "tags": []
   },
   "outputs": [
    {
     "data": {
      "text/plain": [
       "Speeding               268736\n",
       "Moving violation        90228\n",
       "Equipment               61250\n",
       "Other                   24216\n",
       "Registration/plates     19830\n",
       "Seat belt               16324\n",
       "Name: violation, dtype: int64"
      ]
     },
     "metadata": {},
     "output_type": "display_data"
    },
    {
     "data": {
      "text/plain": [
       "Speeding               0.559186\n",
       "Moving violation       0.187747\n",
       "Equipment              0.127449\n",
       "Other                  0.050389\n",
       "Registration/plates    0.041262\n",
       "Seat belt              0.033967\n",
       "Name: violation, dtype: float64"
      ]
     },
     "metadata": {},
     "output_type": "display_data"
    }
   ],
   "source": [
    "# Count the unique values in 'violation'\n",
    "display(df.violation.value_counts())\n",
    "\n",
    "# Express the counts as proportions\n",
    "display(df.violation.value_counts(normalize=True))"
   ]
  },
  {
   "cell_type": "code",
   "execution_count": 25,
   "id": "9f934f51",
   "metadata": {
    "execution": {
     "iopub.execute_input": "2023-12-01T09:40:46.142456Z",
     "iopub.status.busy": "2023-12-01T09:40:46.142013Z",
     "iopub.status.idle": "2023-12-01T09:40:46.785148Z",
     "shell.execute_reply": "2023-12-01T09:40:46.783625Z"
    },
    "papermill": {
     "duration": 0.664253,
     "end_time": "2023-12-01T09:40:46.788433",
     "exception": false,
     "start_time": "2023-12-01T09:40:46.124180",
     "status": "completed"
    },
    "tags": []
   },
   "outputs": [],
   "source": [
    "# Create a DataFrame of female drivers\n",
    "female = df[df.driver_gender == 'F']\n",
    "\n",
    "# Create a DataFrame of male drivers\n",
    "male = df[df.driver_gender == 'M']"
   ]
  },
  {
   "cell_type": "code",
   "execution_count": 26,
   "id": "c6956b0f",
   "metadata": {
    "execution": {
     "iopub.execute_input": "2023-12-01T09:40:46.823365Z",
     "iopub.status.busy": "2023-12-01T09:40:46.822085Z",
     "iopub.status.idle": "2023-12-01T09:40:46.915339Z",
     "shell.execute_reply": "2023-12-01T09:40:46.914121Z"
    },
    "papermill": {
     "duration": 0.113038,
     "end_time": "2023-12-01T09:40:46.917714",
     "exception": false,
     "start_time": "2023-12-01T09:40:46.804676",
     "status": "completed"
    },
    "tags": []
   },
   "outputs": [
    {
     "name": "stdout",
     "output_type": "stream",
     "text": [
      "Speeding               0.657308\n",
      "Moving violation       0.136581\n",
      "Equipment              0.107055\n",
      "Registration/plates    0.043077\n",
      "Other                  0.028908\n",
      "Seat belt              0.027071\n",
      "Name: violation, dtype: float64\n",
      "Speeding               0.522364\n",
      "Moving violation       0.206948\n",
      "Equipment              0.135102\n",
      "Other                  0.058450\n",
      "Registration/plates    0.040581\n",
      "Seat belt              0.036555\n",
      "Name: violation, dtype: float64\n"
     ]
    }
   ],
   "source": [
    "# Compute the violations by female drivers (as proportions)\n",
    "print(female.violation.value_counts(normalize=True))\n",
    "\n",
    "# Compute the violations by male drivers (as proportions)\n",
    "print(male.violation.value_counts(normalize=True))"
   ]
  },
  {
   "cell_type": "code",
   "execution_count": 27,
   "id": "e4d97a3e",
   "metadata": {
    "execution": {
     "iopub.execute_input": "2023-12-01T09:40:46.952295Z",
     "iopub.status.busy": "2023-12-01T09:40:46.951855Z",
     "iopub.status.idle": "2023-12-01T09:40:47.384039Z",
     "shell.execute_reply": "2023-12-01T09:40:47.382579Z"
    },
    "papermill": {
     "duration": 0.452978,
     "end_time": "2023-12-01T09:40:47.386935",
     "exception": false,
     "start_time": "2023-12-01T09:40:46.933957",
     "status": "completed"
    },
    "tags": []
   },
   "outputs": [],
   "source": [
    "#Does gender affect who gets a ticket for speeding?\n",
    "\n",
    "# Create a DataFrame of female drivers stopped for speeding\n",
    "female_and_speeding = df[(df.driver_gender == 'F') & (df.violation == 'Speeding')]\n",
    "\n",
    "# Create a DataFrame of male drivers stopped for speeding\n",
    "male_and_speeding = df[(df.driver_gender == 'M') & (df.violation == 'Speeding')]"
   ]
  },
  {
   "cell_type": "code",
   "execution_count": 28,
   "id": "03a68a8d",
   "metadata": {
    "execution": {
     "iopub.execute_input": "2023-12-01T09:40:47.422074Z",
     "iopub.status.busy": "2023-12-01T09:40:47.421657Z",
     "iopub.status.idle": "2023-12-01T09:40:47.477775Z",
     "shell.execute_reply": "2023-12-01T09:40:47.476463Z"
    },
    "papermill": {
     "duration": 0.076759,
     "end_time": "2023-12-01T09:40:47.480751",
     "exception": false,
     "start_time": "2023-12-01T09:40:47.403992",
     "status": "completed"
    },
    "tags": []
   },
   "outputs": [
    {
     "name": "stdout",
     "output_type": "stream",
     "text": [
      "Citation            0.953247\n",
      "Warning             0.039003\n",
      "Arrest Driver       0.005290\n",
      "Arrest Passenger    0.001033\n",
      "N/D                 0.000905\n",
      "No Action           0.000522\n",
      "Name: stop_outcome, dtype: float64\n",
      "Citation            0.944636\n",
      "Warning             0.036086\n",
      "Arrest Driver       0.015767\n",
      "Arrest Passenger    0.001265\n",
      "N/D                 0.001183\n",
      "No Action           0.001063\n",
      "Name: stop_outcome, dtype: float64\n"
     ]
    }
   ],
   "source": [
    "# Compute the stop outcomes for female drivers (as proportions)\n",
    "print(female_and_speeding.stop_outcome.value_counts(normalize=True)) ########### NORMALIZE\n",
    "\n",
    "# Compute the stop outcomes for male drivers (as proportions)\n",
    "print(male_and_speeding.stop_outcome.value_counts(normalize=True)) ########### NORMALIZE"
   ]
  },
  {
   "cell_type": "code",
   "execution_count": 29,
   "id": "0a601285",
   "metadata": {
    "execution": {
     "iopub.execute_input": "2023-12-01T09:40:47.515806Z",
     "iopub.status.busy": "2023-12-01T09:40:47.515404Z",
     "iopub.status.idle": "2023-12-01T09:40:47.587306Z",
     "shell.execute_reply": "2023-12-01T09:40:47.585886Z"
    },
    "jupyter": {
     "source_hidden": true
    },
    "papermill": {
     "duration": 0.093488,
     "end_time": "2023-12-01T09:40:47.590869",
     "exception": false,
     "start_time": "2023-12-01T09:40:47.497381",
     "status": "completed"
    },
    "tags": []
   },
   "outputs": [
    {
     "name": "stdout",
     "output_type": "stream",
     "text": [
      "object\n",
      "False    0.963041\n",
      "True     0.036959\n",
      "Name: search_conducted, dtype: float64\n"
     ]
    }
   ],
   "source": [
    "#Does gender affect whose vehicle is searched?\n",
    "\n",
    "# Check the data type of 'search_conducted'\n",
    "print(df.search_conducted.dtype)\n",
    "\n",
    "# Calculate the search rate by counting the values\n",
    "print(df.search_conducted.value_counts(normalize=True)) ######### NORMALIZE"
   ]
  },
  {
   "cell_type": "code",
   "execution_count": 30,
   "id": "b6885471",
   "metadata": {
    "execution": {
     "iopub.execute_input": "2023-12-01T09:40:47.627163Z",
     "iopub.status.busy": "2023-12-01T09:40:47.626428Z",
     "iopub.status.idle": "2023-12-01T09:40:47.702283Z",
     "shell.execute_reply": "2023-12-01T09:40:47.700945Z"
    },
    "papermill": {
     "duration": 0.09687,
     "end_time": "2023-12-01T09:40:47.704963",
     "exception": false,
     "start_time": "2023-12-01T09:40:47.608093",
     "status": "completed"
    },
    "tags": []
   },
   "outputs": [
    {
     "data": {
      "text/plain": [
       "driver_race\n",
       "Asian       0.020119\n",
       "Black       0.057425\n",
       "Hispanic    0.059409\n",
       "Other       0.010417\n",
       "White       0.026796\n",
       "Name: is_arrested, dtype: float64"
      ]
     },
     "execution_count": 30,
     "metadata": {},
     "output_type": "execute_result"
    }
   ],
   "source": [
    "df.groupby('driver_race').is_arrested.mean()"
   ]
  },
  {
   "cell_type": "code",
   "execution_count": 31,
   "id": "b191d3be",
   "metadata": {
    "execution": {
     "iopub.execute_input": "2023-12-01T09:40:47.743207Z",
     "iopub.status.busy": "2023-12-01T09:40:47.742799Z",
     "iopub.status.idle": "2023-12-01T09:40:47.868965Z",
     "shell.execute_reply": "2023-12-01T09:40:47.867729Z"
    },
    "papermill": {
     "duration": 0.149801,
     "end_time": "2023-12-01T09:40:47.871533",
     "exception": false,
     "start_time": "2023-12-01T09:40:47.721732",
     "status": "completed"
    },
    "tags": []
   },
   "outputs": [
    {
     "data": {
      "text/plain": [
       "district  driver_race\n",
       "Zone K1   Asian          0.015432\n",
       "          Black          0.046395\n",
       "          Hispanic       0.057721\n",
       "          Other          0.007692\n",
       "          White          0.020008\n",
       "Zone K2   Asian          0.014346\n",
       "          Black          0.039542\n",
       "          Hispanic       0.049544\n",
       "          Other          0.008658\n",
       "          White          0.024184\n",
       "Zone K3   Asian          0.015227\n",
       "          Black          0.047430\n",
       "          Hispanic       0.046998\n",
       "          Other          0.008869\n",
       "          White          0.028010\n",
       "Zone X1   Asian          0.016949\n",
       "          Black          0.046414\n",
       "          Hispanic       0.066277\n",
       "          Other          0.000000\n",
       "          White          0.017423\n",
       "Zone X3   Asian          0.025432\n",
       "          Black          0.065223\n",
       "          Hispanic       0.059304\n",
       "          Other          0.007692\n",
       "          White          0.023365\n",
       "Zone X4   Asian          0.029574\n",
       "          Black          0.072436\n",
       "          Hispanic       0.070166\n",
       "          Other          0.021552\n",
       "          White          0.035227\n",
       "Name: is_arrested, dtype: float64"
      ]
     },
     "execution_count": 31,
     "metadata": {},
     "output_type": "execute_result"
    }
   ],
   "source": [
    "# Group data by district and race and calculate the mean of a third factor\n",
    "df.groupby(['district','driver_race']).is_arrested.mean()\n"
   ]
  },
  {
   "cell_type": "markdown",
   "id": "0bd3eb8a",
   "metadata": {
    "papermill": {
     "duration": 0.016499,
     "end_time": "2023-12-01T09:40:47.905883",
     "exception": false,
     "start_time": "2023-12-01T09:40:47.889384",
     "status": "completed"
    },
    "tags": []
   },
   "source": [
    "# **Using the datetime index to select data and Plot some stats**"
   ]
  },
  {
   "cell_type": "code",
   "execution_count": 32,
   "id": "a5cd698f",
   "metadata": {
    "execution": {
     "iopub.execute_input": "2023-12-01T09:40:47.942029Z",
     "iopub.status.busy": "2023-12-01T09:40:47.941610Z",
     "iopub.status.idle": "2023-12-01T09:40:49.563681Z",
     "shell.execute_reply": "2023-12-01T09:40:49.562739Z"
    },
    "papermill": {
     "duration": 1.643666,
     "end_time": "2023-12-01T09:40:49.566499",
     "exception": false,
     "start_time": "2023-12-01T09:40:47.922833",
     "status": "completed"
    },
    "tags": []
   },
   "outputs": [
    {
     "name": "stderr",
     "output_type": "stream",
     "text": [
      "/opt/conda/lib/python3.10/site-packages/scipy/__init__.py:146: UserWarning: A NumPy version >=1.16.5 and <1.23.0 is required for this version of SciPy (detected version 1.23.5\n",
      "  warnings.warn(f\"A NumPy version >={np_minversion} and <{np_maxversion}\"\n"
     ]
    }
   ],
   "source": [
    "import matplotlib.pyplot as plt\n",
    "import seaborn as sns\n",
    "sns.set(style=\"darkgrid\")\n",
    "\n",
    "plt.rcParams[\"figure.figsize\"] =(12,10)"
   ]
  },
  {
   "cell_type": "code",
   "execution_count": 33,
   "id": "e065a72d",
   "metadata": {
    "execution": {
     "iopub.execute_input": "2023-12-01T09:40:49.604484Z",
     "iopub.status.busy": "2023-12-01T09:40:49.603516Z",
     "iopub.status.idle": "2023-12-01T09:40:50.901886Z",
     "shell.execute_reply": "2023-12-01T09:40:50.900888Z"
    },
    "papermill": {
     "duration": 1.320382,
     "end_time": "2023-12-01T09:40:50.904513",
     "exception": false,
     "start_time": "2023-12-01T09:40:49.584131",
     "status": "completed"
    },
    "tags": []
   },
   "outputs": [
    {
     "data": {
      "image/png": "[encoded data removed]",
      "text/plain": [
       "<Figure size 1200x1000 with 1 Axes>"
      ]
     },
     "metadata": {},
     "output_type": "display_data"
    }
   ],
   "source": [
    "figure = df.groupby(df.index.month).is_arrested.mean().plot(kind='barh')\n",
    "\n",
    "plt.xlabel('Month')\n",
    "plt.ylabel('Arrest Rate')\n",
    "plt.title('Monthly Mean Arrest Rate in Traffic Stops')\n",
    "\n",
    "plt.savefig('is_arrested_bymonth.pdf', format='pdf')"
   ]
  },
  {
   "cell_type": "code",
   "execution_count": null,
   "id": "06965529",
   "metadata": {
    "papermill": {
     "duration": 0.018966,
     "end_time": "2023-12-01T09:40:50.942640",
     "exception": false,
     "start_time": "2023-12-01T09:40:50.923674",
     "status": "completed"
    },
    "tags": []
   },
   "outputs": [],
   "source": []
  },
  {
   "cell_type": "code",
   "execution_count": null,
   "id": "8be8c0c8",
   "metadata": {
    "papermill": {
     "duration": 0.017424,
     "end_time": "2023-12-01T09:40:50.978022",
     "exception": false,
     "start_time": "2023-12-01T09:40:50.960598",
     "status": "completed"
    },
    "tags": []
   },
   "outputs": [],
   "source": []
  }
 ],
 "metadata": {
  "kaggle": {
   "accelerator": "none",
   "dataSources": [
    {
     "datasetId": 3646127,
     "sourceId": 6334030,
     "sourceType": "datasetVersion"
    }
   ],
   "dockerImageVersionId": 30527,
   "isGpuEnabled": false,
   "isInternetEnabled": true,
   "language": "python",
   "sourceType": "notebook"
  },
  "kernelspec": {
   "display_name": "Python 3",
   "language": "python",
   "name": "python3"
  },
  "language_info": {
   "codemirror_mode": {
    "name": "ipython",
    "version": 3
   },
   "file_extension": ".py",
   "mimetype": "text/x-python",
   "name": "python",
   "nbconvert_exporter": "python",
   "pygments_lexer": "ipython3",
   "version": "3.10.12"
  },
  "papermill": {
   "default_parameters": {},
   "duration": 38.0656,
   "end_time": "2023-12-01T09:40:52.320780",
   "environment_variables": {},
   "exception": null,
   "input_path": "__notebook__.ipynb",
   "output_path": "__notebook__.ipynb",
   "parameters": {},
   "start_time": "2023-12-01T09:40:14.255180",
   "version": "2.4.0"
  }
 },
 "nbformat": 4,
 "nbformat_minor": 5
}
